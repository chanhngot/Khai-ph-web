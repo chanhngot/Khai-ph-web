{
 "cells": [
  {
   "cell_type": "code",
   "execution_count": 150,
   "metadata": {},
   "outputs": [],
   "source": [
    "import pandas as pd\n",
    "import os\n",
    "from sklearn.feature_extraction.text import CountVectorizer\n",
    "from sklearn.metrics.pairwise import cosine_similarity\n",
    "import underthesea #pip install underthesea\n",
    "import re\n",
    "import nltk\n",
    "from nltk.corpus import stopwords\n",
    "from nltk.stem import WordNetLemmatizer\n",
    "Path = os.getcwd() "
   ]
  },
  {
   "cell_type": "code",
   "execution_count": 161,
   "metadata": {},
   "outputs": [],
   "source": [
    "# Đọc file dữ liệu\n",
    "def read_file(filename):\t\n",
    "    file_store = os.path.join(os.getcwd(), \"D:\\\\python\\\\33_35\")\n",
    "    filename=os.path.join(file_store, filename)        \n",
    "    with open(filename, 'r',encoding=\"utf-8\") as f:\n",
    "        data = f.read()\n",
    "    return data\n",
    "\n",
    "# Chuẫn hóa dữ liệu\n",
    "def create_dataframe(matrix, tokens):\n",
    "    doc_names = [f'doc_{i+4}' for i, _ in enumerate(matrix)]\n",
    "    df = pd.DataFrame(data=matrix, index=doc_names, columns=tokens)\n",
    "    return(df)\n",
    "\n",
    "# Tiền xử lý văn bản\n",
    "def Text_Preprocessing(doc):\n",
    "    text_pre = doc.lower()\n",
    "    text_pre = underthesea.word_tokenize(text_pre, format=\"text\")\n",
    "    text_pre = underthesea.text_normalize(text_pre)\n",
    "    \n",
    "    text_pre = text_pre.replace('XXXX', '')        \n",
    "    text_pre = text_pre.replace(u'\\ufffd', '')   # Replaces the ASCII symbol with ''\n",
    "    text_pre = re.sub(r'[^\\w\\s]','',text_pre)\n",
    "    text_pre = text_pre.rstrip('\\n')              # Removes line breaks\n",
    "    text_pre = text_pre.casefold()                # Makes all letters lowercase\n",
    "    \n",
    "    text_pre = re.sub('\\W_',' ', text_pre)        # removes specials characters and leaves only words\n",
    "    text_pre = re.sub(\"\\S*\\d\\S*\",\" \", text_pre)   # removes numbers and words concatenated with numbers IE h4ck3r. Removes road names such as BR-381.\n",
    "    text_pre = re.sub(\"\\S*@\\S*\\s?\",\" \", text_pre) # removes emails and mentions (words with @)\n",
    "    text_pre = re.sub(r'http\\S+', '', text_pre)   # removes URLs with http\n",
    "    text_pre = re.sub(r'www\\S+', '', text_pre)    # removes URLs with www\n",
    "      ##Remove stop words\n",
    "    filename=os.path.join(Path, \"D:\\\\python\\\\vietnamese-stopwords.txt\")\n",
    "    f = open(filename, \"r\", encoding=\"utf-8\")\n",
    "    \n",
    "    #Get Stop words Dictionaries\n",
    "    List_StopWords=f.read().split(\"\\n\")\n",
    "    text_pre=\" \".join(text for text in text_pre.split() if text not in List_StopWords)\n",
    "    \n",
    "    return text_pre"
   ]
  },
  {
   "cell_type": "code",
   "execution_count": 162,
   "metadata": {},
   "outputs": [],
   "source": [
    "News_11=read_file(\"News11.txt\")\n",
    "News_12=read_file(\"News12.txt\")\n",
    "News_21=read_file(\"News21.txt\")\n",
    "News_22=read_file(\"News22.txt\")\n",
    "News_31=read_file(\"News31.txt\")\n",
    "News_32=read_file(\"News32.txt\")\n",
    "\n"
   ]
  },
  {
   "cell_type": "code",
   "execution_count": 163,
   "metadata": {},
   "outputs": [
    {
     "data": {
      "text/plain": [
       "['thể thaobóng đácác giải khácthứ gmt ronaldo trọng_tài hủy phạt_đền đội arab saudicristiano ronaldo yêu_cầu var vào_cuộc trọng_tài al nassr hưởng phạt_đền tình_huống ngã cấm địa_persepolis afc champions league phút hai trận đấu bảng e ronaldo tranh_chấp rafiei cấm_địa ngã trọng_tài lập_tức al nassr hưởng penalty phản_đối cầu_thủ persepolis ronaldo bất_ngờ chạy lắc ngón_tay liên_tục penalty trọng_tài rút quyết_định ronaldo liên_tục lắc ngón dấu thổi phạt_đền trọng_tài trận persepolis riyad arab saudi hôm ảnh vanguard hậu_vệ đội trọng_tài quan_điểm ronaldo tán_dương siêu_sao bồ đào_nha tham_khảo var trọng_tài quyết_định hủy phạt_đền al nassr mong_muốn ronaldo rafiei thực_tế chủ_động thu chân pha tranh_chấp tiền đạo_al nassr hành_động fairplay ronaldo trang_mạng xã_hội dậy sóng x cđv củng_cố nhận_định siêu_sao cầu_thủ vĩ_đại lionel messi qatar chắc_chắn xảy lý_do ronaldo cầu_thủ lịch_sử tài_khoản chava viết tài_khoản madridfooty đề_cập messi messi đá penalty tưởng_tượng world_cup tài_khoản abdul_raymann hành_động ronaldo lựa_chọn goat cầu_thủ vĩ_đại tài_khoản ronaldo không_trung_thực penalty chung_kết champions league tình_huống va_chạm ronaldo vàng rafiei cấm_địa phút hai ảnh vanguard tình_huống va_chạm ronaldo vàng rafiei cấm_địa phút hai ảnh vanguard thực_tế quyết_định từ_chối phạt_đền ronaldo al nassr trải trận đấu vất_vả persepolis không_thể chủ phút ali lajami thẻ_đỏ trận al_nassr dứt_điểm sáu đối_thủ chủ bóng trúng hướng cầu_môn persepolis bốn xuất_sắc thủ_môn nawaf alaqidi al nassr đại_diện iran ronaldo đồng_đội chắc_chắn đi tiếp đứng bảng e_sớm lượt trận persepolis',\n",
       " 'thể thaotennisthứ gmt hlv alcaraz chảy nước_miếng djokovic hlv juan carlos ferrero nhận_định novak djokovic tennis hoàn_hảo tầm rafael nadal roger federer có_thể roger federer rafael_nadal cống_hiến hlv ferrero phỏng_vấn el larguero hôm di_sản quần_vợt không_thể phủ_nhận đối_với djokovic giỏi lịch_sử chiến_lược gia nhận_xét nole gương hoàn_hảo học_trò alcaraz cố_gắng noi chúng_tôi hlv alcaraz không_chỉ danh_hiệu mà_còn hlv ferrero trái tập alcaraz djokovic ảnh bola hlv ferrero trái tập alcaraz djokovic ảnh bola alcaraz đánh_bại djokovic chung_kết wimbledon thua chạm_trán roland garros cincinnati masters atp_finals thầy trò vợt_tây ban_nha tâm_phục_khẩu_phục djokovic thất_bại kết atp finals cạn khen djokovic hlv ferrero vợt serbia chảy nước_miếng thi_đấu di_chuyển chạm bóng djokovic ổn_định tâm_lý phân_tâm một_số nhất_định thi_đấu tàn_nhẫn chiến_lược gia_tây ban_nha ca_ngợi bản_lĩnh đẳng_cấp nole quan_trọng độc_nhất_vô_nhị chất_lượng điểm_số cực áp_lực mặt đánh hỏng hai liên_tiếp trận giỏi như_thế_nào trở_nên hoàn_hảo ferrero cải_thiện trình_độ sân một_sớm_một_chiều alcaraz đòi_hỏi thời_gian trải_nghiệm mặt sân cựu số_một thế_giới giành danh_hiệu atp sự_nghiệp rõ_ràng mặt sân ủng_hộ lối chúng_tôi alcaraz cải_thiện tương_lai đấu giỏi',\n",
       " 'sức khỏetin tứcthứ gmt trung_tâm y_tế bác_sĩ chứng_chỉ hành_nghề khám học_sinh tp hcmtrung_tâm y_tế hai bác_sĩ dự_phòng chứng_chỉ hành_nghề khám mắt bác_sĩ y_học cổ_truyền khám_nhi tai_mũi họng học_sinh trường tiểu_học bình_tiên giám_đốc sở y_tế tp hcm chí_thượng yêu_cầu trung_tâm ngưng khám sức khỏe học_sinh khắc_phục việc_làm quy_định phản_ánh cơ_quan_chức_năng rà_soát quy_trình khám sức khỏe học_sinh địa_bàn kiểm_điểm sai_phạm sự_việc tái_diễn giám_đốc trung_tâm y_tế đảm_bảo nhân_sự khám kiểm_tra sức_khỏe một_số chuyên_khoa áp_lực áp_lực đảm_bảo tiến_độ kiểm_tra sức khỏe học_sinh học_kỳ song_song duy_trì khám_chữa bệnh phòng_chống dịch_bệnh địa_bàn do_đó tập_huấn bố_trí một_số nhân_viên y_tế chứng_chỉ hành_nghề khám sức khỏe học_sinh trung_tâm vốn sở y_tế công_bố điều_kiện khám sức_khỏe đa_số trường_học địa_bàn ký hợp_đồng kiểm_tra sức khỏe đầu năm_học học_sinh động_thái giúp đánh_giá tình_trạng dinh_dưỡng theo_dõi sức_khỏe phát_hiện bệnh_lý kịp_thời cơ_sở khám_chữa bệnh tuy_nhiên giám_đốc sở y_tế bố_trí sai nhân_lực không_thể chấp_nhận đáng_trách việc_làm ý_kiến quản_lý trực_tiếp lãnh_đạo ngành y_tế trung_tâm nhân_sự giải_pháp khả_thi mời bệnh_viện phòng_khám đa_khoa địa_bàn tham_gia khám sức khỏe học_sinh liên_hệ bệnh_viện công_lập tư_nhân cử bác_sĩ chuyên_khoa hỗ_trợ phối_hợp tham_gia nhất_là loại_hình bác_sĩ chuyên_khoa trung_tâm quy_định y_tế giáo_dục đào_tạo trường_học cơ_sở giáo_dục trách_nhiệm triển_khai khám sức khỏe định_kỳ học_sinh ít_nhất đầu học_kỳ lựa_chọn cơ_sở y_tế ký hợp_đồng thực_hiện cơ_sở kiểm_tra sức khỏe học_sinh chuyên_khoa nội_dung khám bao_gồm nhi nội_khoa mắt tai mũi họng hàm_mặt cơ_xương khớp',\n",
       " 'sức khỏekhỏe đẹpthứ gmt mẹ lột_xác kg tp hcmtừng kg trà my ngán_ngẩm gương dám đường gặp_gỡ bạn_bè sợ miệt_thị ngoại_hình chồng tống_thị trà my kg hai vướng dịch sinh cân gấp đôi ngắm cơ_thể sồ_sề vòng hai phì_nhiêu mẹ trẻ cảm_thấy ngán_ngẩm chiều m my ví_như nấm lùn thùng phi di_động ngại bạn_bè lủi_thủi ngoài_ra cân my thường_xuyên ốm_vặt leo cầu_thang thở_dốc đi khám phát_hiện mỡ máu huyết_áp cân my mặc đồ màu đen che đi khuyết_điểm ảnh nhân_vật cung_cấp cân my mặc đồ màu đen che đi khuyết_điểm ảnh nhân_vật cung_cấp nguyễn_hữu_lãm trung_tâm thể_hình solid_fitness huấn_luyện_viên cá_nhân trà my thử phương_pháp tiêu_cực nhịn uống thuốc cân ép cân song phản_tác_dụng sinh my đau lưng kèm ám_ảnh cân niềm hành_trình lột_xác my làm_việc văn_phòng lộ_trình đầy_đủ tập_luyện ăn_uống kết_quả mong_muốn my ăn_uống cầu_kỳ khắt_khe đảm_bảo calo in nạp calo out kết_hợp kiên_trì tập_luyện lãm tuy_nhiên cơ_địa_my tích_tụ_mỡ tập_luyện khó_khăn kết_quả tự_nhủ bản_thân nỗ_lực gấp đôi học_viên phụ_nữ bản_thân mục_tiêu thực_hiện ví_dụ thử_thách kg hai bài_tập bài_tập dần tùy sức_lực bản_thân yêu_cầu huấn_luyện_viên chế_độ chính_xác tiêu_thụ thực_phẩm kiểu áng_chừng số_lượng mua cân tiểu_ly đảm_bảo gram yêu_cầu my bản_thân đa_dạng món thịt cá trứng sữa song kcal ngoài_ra mẹ thay_đổi thực_đơn liên_tục không_chỉ chế_độ chẳng_hạn đầu_tiên my thâm_hụt calo in nạp calo out chuyên_gia yếu_tố quan_trọng cân thâm_hụt calo tức_lượng calo_nạp cơ_thể calo tiêu_thụ calo_nạp cơ_thể calo in thức_ăn đồ uống calo tiêu_thụ calo_out quá_trình trao_đổi chất hoạt_động thông_thường kể_cả hít thở ngủ tập_thể_dục bữa my chế_biến đa_dạng hạn_chế dầu_mỡ ví_dụ thịt bò xào kèm cải cá trưa thịt bữa tối đầu kg hai my gián_đoạn tức_là nhịn tuy_nhiên áp_dụng chế_độ hai tuần cơ_thể làm_quen duy_trì thâm_hụt my gián_đoạn thâm_hụt liên_tục đổi chế_độ nhàm_chán chững_cân tuy_nhiên thâm_hụt my giới_hạn kcal gián_đoạn kết_thúc h tối tuyệt_đối h tối đói bụng song cố_gắng thịt cá tối_đa gr năng_lượng làm_việc phụ_nữ ngoài_ra nhất_thiết cân ăn_ức gà luộc hấp đồ_ăn my hạn_chế tiêu_thụ dầu_mỡ đồ chững cân cho_phép bản_thân ăn_xả gọi cheat day năng_lượng tiếp_tục cân cm vòng bụng tự_tin lựa_chọn quần_áo huấn_luyện_viên lãm đánh_giá học_viên kỷ_luật kết_quả cân học_hỏi phòng tập my kg hiện kg ảnh nhân_vật cung_cấp phòng tập my kg hiện kg ảnh nhân_vật cung_cấp dinh_dưỡng my hướng_dẫn tập kháng_lực cải_thiện cân cơ_địa_yếu thể_lực kém my thời_gian quen cường_độ lãm bắp_chân cơ_địa lê do_đó my tập plank cardio mỡ my kg chỉ_số cơ_thể hoàn_hảo song bản_thân tự_tin nắm vững quy_tắc ăn_uống cân trở_lại mẹ cân hành_trình lâu_dài tập_luyện ăn_uống nỗ_lực hiện my kiên_trì tập_luyện tuần hai tiếng ngày_càng khỏe đẹp',\n",
       " 'kinh doanhvĩ môthứ gmt quốc_hội thảo_luận cơ_chế xử_lý trúng đấu_giá cọc đại_biểu đề_nghị tiền cọc song bộ_tư_pháp làm_vậy điều_kiện tham_gia đấu_giá tiềm_ẩn nguy_cơ thông_đồng móc_nối dìm_giá quốc_hội thảo_luận hội_trường dự_án luật sửa_đổi bổ_sung một_số luật đấu_giá tài_sản quy_định tham_gia đấu_giá nộp tiền cọc giá khởi_điểm tài_sản đấu_giá hiện_hành báo_cáo giải_trình tiếp_thu ý_kiến đại_biểu thảo_luận tổ bộ_tư_pháp cơ_quan soạn_thảo ý_kiến đề_nghị tiền cọc quy_định tiền cọc giá_trị tài_sản tài_sản đặc_thù có_thể nâng tiền cọc giá khởi_điểm đề_xuất tiền cọc diễn bối_cảnh tham_gia trúng đấu_giá lô đất biển xe ôtô đẹp cọc vụ đấu_giá đất thủ_thiêm trúng đấu_giá thuê đảo hồ xuân_hương vì_thế ý_kiến đại_biểu đề_nghị bổ_sung chế_tài xử_lý trúng đấu_giá cọc phạt tiền bồi_thường chi_phí tổ_chức đấu_giá tham_gia đấu_giá thời_hạn nhất_định thậm_chí xử_lý hình_sự tuy_nhiên bộ_tư_pháp tiền cọc giá khởi_điểm tài_sản đấu_giá dự_thảo luật phù_hợp thực_tiễn điều_kiện thu_hút tham_gia đấu_giá nâng tiền điều_kiện tham_gia đấu_giá tiềm_ẩn nguy_cơ thông_đồng móc_nối dìm_giá nhất_là tài_sản giá_trị quyền sử_dụng đất bộ_tư_pháp đánh_giá hiện quy_định cụ_thể tiền cọc đấu_giá thay công_ty đấu_giá tiền cọc tài_sản hình_thức đấu_giá bộ_tư_pháp nộp tiền điều_kiện tham_gia đấu_giá trúng đấu_giá khoản tiền thành tiền cọc trúng đấu_giá thực_hiện nghĩa_vụ tài_chính trúng đấu_giá ký hợp_đồng mua_bán nộp tiền trúng đấu_giá tiền đặt_cọc trường_hợp ký hợp_đồng mua_bán tài_sản xử_lý tiền đặt_cọc phạt thực_hiện hợp_đồng bộ_luật dân_sự hạn_chế tình_trạng cò_mồi tham_gia đấu_giá mục_đích trục_lợi dự_thảo luật quy_định tham_gia đấu_giá trả_giá cố_tình trả_giá hợp_lệ giá khởi_điểm ghi phiếu sai tiền cọc cơ_quan soạn_thảo cho_hay ngành nghiên_cứu hoàn_thiện pháp_luật chuyên_ngành điều_kiện tham_gia đấu_giá nhất_là năng_lực tài_chính cơ_quan nghiên_cứu chế_tài xử_lý trúng đấu_giá cọc cấm tham_gia đấu_giá phạt vi_phạm hành_chính phạt vi_phạm hợp_đồng đại_biểu tham_dự kỳ họp quốc_hội khóa_xv ảnh hoàng_phong đại_biểu tham_dự kỳ họp quốc_hội khóa_xv ảnh hoàng_phong sửa dự_luật nêu thông_qua đấu_giá quyền sử_dụng đất quyền khai_thác khoáng_sản sử_dụng kho viễn_thông miền internet nợ xấu tài_sản bảo_đảm khoản nợ thảo_luận tổ ý_kiến đề_nghị liệt_kê tài_sản đấu_giá dự_liệu tài_sản phát_sinh tương_lai ý_kiến đề_nghị quy_định bán_đấu_giá tài_sản giá_trị bộ_tư_pháp luật sửa_đổi một_số kế_thừa quan_điểm luật đấu_giá tài_sản luật hình_thức tức_là quy_định trình_tự thủ_tục đấu_giá tài_sản áp_dụng thống_nhất pháp_luật chuyên_ngành do_đó dự_thảo luật liệt_kê tài_sản pháp_luật chuyên_ngành đấu_giá tài_sản quyền sử_dụng đất xây_dựng dự_án đầu_tư tài_sản công quyền sở_hữu_trí_tuệ phần_mềm cơ_sở dữ_liệu dự_thảo luật quy_định tiêu_chuẩn điều_kiện đấu_giá_viên tốt_nghiệp đại_học ngành luật kinh_tế kế_toán tài_chính ngân_hàng phù_hợp tính_chất đặc_điểm nghề_nghiệp đấu_giá liên_quan xử_lý tài_sản tuy_nhiên đấu_giá_viên miễn đào_tạo nghề đấu_giá trước_đây bộ_tư_pháp đảm_bảo tất_cả hành_nghề đấu_giá khóa đào_tạo nghề nâng chất_lượng hoạt_động hành_nghề đội_ngũ đấu_giá_viên trong_sáng quốc_hội biểu_quyết thông_qua luật kinh_doanh bất_động_sản sửa_đổi chiều đại_biểu biểu_quyết thông_qua nghị_quyết thí_điểm một_số cơ_chế chính_sách đặc_thù đầu_tư xây_dựng công_trình giao_thông đường_bộ luật lực_lượng tham_gia bảo_vệ an_ninh trật_tự cơ_sở đại_biểu thảo_luận hội_trường dự_án luật công_nghiệp quốc_phòng an_ninh động_viên công_nghiệp',\n",
       " 'kinh_tế việt nhật nửa thế_kỷ sát cánh làm_bạn trao kinh_tế việt_nam dần song_hành nhật hướng tối_qua chủ_tịch võ_văn_thưởng thủ_tướng kishida thông_báo hai nâng_cấp quan_hệ đối_tác chiến_lược toàn_diện hòa_bình thịnh_vượng châu_á thế_giới tuyên_bố_chung nhân chuyến thăm chủ_tịch võ_văn thưởng tới_nhật dịp hai kỷ_niệm thiết_lập quan_hệ ngoại_giao chủ_tịch võ_văn_thưởng thủ_tướng nhật_fumio kishida ảnh ttxvn thâm_tình đầu_tiên quan_hệ việt nhật đặc_điểm tương_đối độc_đáo dựa tin_cậy gần_gũi lãnh_đạo hai nguyễn_quốc_cường đại_sứ đặc_mệnh toàn_quyền việt_nam nhật_bản nhiệm_kỳ vnexpress việt_nam nhật_bản bắt_đầu thiết_lập quan_hệ nhật_bản thực_thi chính_sách đối_ngoại học thuyết_fukuda chủ_trương nước_nhật vai_trò cầu_nối góp_phần duy_trì hòa_bình ổn_định khu_vực đông nam_á việt_nam đóng vai_trò quan_trọng thủ_tướng việt_nam võ_văn_kiệt thăm_nhật đánh_dấu chuyến thăm chính_thức đầu_tiên chính_phủ việt_nam thủ_tướng võ_văn_kiệt tham_quan triển_lãm sony_nhân chuyến thăm chính_thức nhật_bản ảnh ttxvn murayama tomiichi trở_thành thủ_tướng nhật đầu_tiên thăm việt_nam thiết_lập quan_hệ ngoại_giao thủ_tướng murayama_tomiichi trở_thành thủ_tướng nhật_bản đầu_tiên thăm chính_thức việt_nam lãnh_đạo hai liên_tục thăm_viếng gặp_gỡ đời thủ_tướng nhật thăm việt_nam ngược_lại đời tổng_bí_thư việt_nam thăm_nhật đầu_vào nhật đầu_tiên đón tổng_bí_thư việt_nam đời chủ_tịch thăm_nhật thủ_tướng chủ_tịch quốc_hội abe shinzo thăm chính_thức việt_nam cựu đại_sứ nguyễn_quốc_cường nhiệm_kỳ thời cố thủ_tướng đánh_giá abe đóng_góp tích_cực việt_nam ngoại_lệ trừ_mỹ việt_nam có_lẽ thăm chia_sẻ việt_nam đặc_biệt tim con_người việt thủy bạn_bè cường cựu đại_sứ đánh_giá cố thủ_tướng nhật việt tình_cảm thân việt_nam lãnh_đạo việt_nam thăm nhật_bản bất_kể đương_chức tổng_bí_thư nguyễn_phú_trọng bắt_tay thủ_tướng shinzo_abe chuyến thăm chính_thức nhật_bản ảnh reuters việt_nam thân_tình lãnh_đạo liên_tục duy_trì thành hành_động thủ_tướng phạm_minh tặng thủ_tướng nhật_bản kishida fumio thư_pháp chân_thành tình_cảm tin_cậy nhân chuyến thăm lãnh_đạo nhật_bản việt_nam ảnh ttxvn nhà_tài_trợ song_phương việt_nam nhật đối_tác oda triển_vọng giá_trị vốn vay đồng_yen có_thể đầu tỷ_yen tài_khóa kubo_yoshitomo phó_trưởng đại_diện văn_phòng cơ_quan hợp_tác quốc_tế nhật_bản jica vốn oda tập_trung giao_thông năng_lượng cơ_sở_hạ_tầng đô_thị lĩnh_vực đột_phá chiến_lược phát_triển việt_nam dòng vốn thành_hình km đường_bộ xây_dựng tương_đương đường hai làn tiêu_chuẩn việt_nam nhà_máy_điện tổng công_suất mw sản_lượng điện quốc_gia công_trình biểu_tượng cầu nhật_tân nhà_máy xử_lý nước_thải bình_hưng tuyến đường_sắt metro metro chạy thử ga suối tiên ga an_phú ảnh quỳnh_trần phần_cứng xây_dựng hạ_tầng vốn oda hỗ_trợ phần_mềm phát_triển nhân_lực xây_dựng thể_chế chính_sách pháp_luật bùng_nổ nhật_bản đầu_tiên viện_trợ_vaccine việt_nam dấu_ấn nhật_bản không_chỉ thể_hiện oda mà_còn dòng vốn đầu_tư fdi fdi nhật_bản việt_nam tỷ usd xếp quốc_gia lãnh_thổ đầu_tư việt_nam cục đầu_tư nước_ngoài doanh_nghiệp đặt_chân việt_nam acecook hai hứa phát_triển ngành_hàng thực_phẩm chế_biến việt_nam xuất_khẩu sản_phẩm văn_hóa việt_nam thế_giới chúng_tôi hoàn_thành hứa kajiwara_junichi chủ_tịch hội_đồng_quản_trị acecook vnexpress acecook hiện sở_hữu nhà_máy chi_nhánh việt_nam việc_làm lao_động doanh_nghiệp cung_cấp thị_trường xuất_khẩu lẫn nội_địa tỷ sản_phẩm dây_chuyền sản_xuất nhà_máy acecook ảnh công_ty cung_cấp takeo_nakajima trưởng đại_diện tổ_chức xúc_tiến thương_mại nhật_bản jetro hà_nội đầu_tư nhật việt_nam bắt_đầu tăng_tốc khoản rót vốn đáng_kể nhà_máy lọc dầu nghi_sơn chính_phủ chấp_thuận ngoài_ra loạt dự_án quy_mô chủ_yếu lĩnh_vực bất_động_sản năng_lượng sản_xuất xây_dựng doanh_nghiệp đầu_tiên việt_nam acecook vốn_nhật tăng_tốc đổ việt_nam việt nhật_ký hiệp_định đối_tác kinh_tế song_phương vjepa fta song_phương đầu_tiên việt_nam hai ưu_đãi hiệp_định đối_tác kinh_tế toàn_diện asean nhật_bản giai_đoạn thành_viên phòng thương_mại công_nghiệp nhật_bản việt_nam ngừng mở_rộng công_ty đông asean takeo nakajima đợt bùng_nổ fdi việt_nam trừ thời_gian tác_động khủng_hoảng tiền_tệ châu_á phá_sản lehman brothers dự_án đầu_tư nhật việt_nam chiều_hướng dữ_liệu kế_hoạch đầu_tư công_nhân sản_xuất máy_lạnh nhà_máy daikin việt_nam ảnh viễn_thông thương_mại hàng hóa tính_chất bổ_trợ cạnh_tranh trực_tiếp nhật_bản thị_trường xuất_khẩu tiềm_năng việt_nam chủ_yếu xuất thủy_sản dầu_thô dệt_may dây_điện dây_cáp điện gỗ sản_phẩm gỗ máy_vi_tính linh_kiện than_đá giày_dép tuần hàng việt siêu_thị aeon nhật_bản xuất_hiện sản_vật miền nam nhãn xoài sầu_riêng mật dừa_nước sản_vật miền bắc kệ siêu_thị_nhật phó tổng_giám_đốc_điều_hành aeon nhật_bản mitsuko_tsuchiya trái_cây việt_nam thực_tế thị_trường nhật đánh_giá hầu_hết nuôi_trồng điều_kiện tự_nhiên nhãn long_an chuối xuất_khẩu thông_qua chuỗi bán_lẻ giai_đoạn tổng giá_trị xuất_khẩu sản_phẩm việt_nam thông_qua hệ_thống bán_lẻ aeon nhật_bản quốc_gia tỷ usd việt_nam nhập_khẩu nhật_bản mặt_hàng phục_vụ sản_xuất công_nghiệp máy_móc thiết_bị dụng_cụ phụ_tùng sản_phẩm điện_tử linh_kiện sắt thép vải linh_kiện ôtô chất dẻo nguyên_liệu hóa_chất nguyên phụ_liệu dệt_may da giày việt_nam thành đối_tác nhật tất_cả thành_viên công_ty việt trừ daisuke_mori chủ startup nhật_bản tiếng việt giọng quảng daisuke mori sáng_lập startup tiếp_thị trực_tuyến việt_nam ảnh nhân_vật cung_cấp việt_nam thời_kỳ daisuke_mori cơ_hội làm_ăn nhật thị_trường việt_nam đặc_biệt internet thay_đổi xảy nhật_bản hầu_hết ngành công_nghiệp cơ_sở_hạ_tầng cơ_cấu hoàn_chỉnh công_ty cung_cấp dịch_vụ đại_lý quảng_cáo marketing nền_tảng thương_mại_điện_tử shopee lazada tiktok_shop xây_dựng phát_triển ứng_dụng website thương_mại khách_hàng thừa_nhận thích_ứng thay_đổi việt_nam cảm_thấy kích_thích nhật_bản cơ_hội daisuke mori việt_nam sức hút quyết_định đầu_tư quy_mô thị_trường triệu dân đại_diện aeon bán_lẻ coi việt_nam hai thị_trường trọng_điểm đánh_giá doanh_nghiệp nhật thu_hút tốc_độ dân_số đặc_biệt tầng_lớp trung_lưu việt_nam tốc_độ tăng_trưởng gdp châu_á nhật_bản lợi_thế việt_nam aeon tuyên_bố tiếp_tục trung_tâm thương_mại việt_nam thị_trường đông_dân việt_nam không_chỉ sức_mua mà_còn cung_cấp lao_động dồi_dào nước_nhật trở_lại đối_diện tình_trạng già hóa dân_số nghiêm_trọng tỷ_lệ cao_tuổi trở chiếm thế_giới áp_lực doanh_nghiệp nhật mở_rộng quốc_gia quy_mô dân_số trẻ nhập_khẩu lao_động đánh_giá phó đại_sứ nhật_bản việt_nam watanabe_shige nhân_lực cần_cù việt_nam đóng_góp phát_triển kinh_tế xã_hội việt_nam dẫn_đầu phái_cử thực_tập sinh đi làm_việc nhật cục quản_lý lao_động tổng_cộng lao_động việt_nam làm_việc sinh_sống nhật ngành_nghề hiện lao_động việt nhật chiếm phần_tư lao_động nước_ngoài nhật_bản trước_đây phần_lớn đầu_tư nhật_bản phát_triển phương_tây trưởng đại_diện tổ_chức xúc_tiến thương_mại nhật_bản jetro hà_nội takeo nakajima đầu_tư nhật_bản công_ty châu_á việt_nam ngày_càng doanh_nghiệp việt đầu_tư sang_nhật chủ_yếu lĩnh_vực công_nghệ_thông_tin khoản đầu_tư đáng_kể tính_toán jetro fpt công_ty kỹ_sư làm_việc khách_hàng nhật nhân_viên làm_việc trực_tiếp văn_phòng trung_tâm phát_triển nhật đơn_vị đặt_chân thị_trường nhật_bản mục_tiêu top công_ty dịch_vụ công_nghệ nhật_bản doanh_thu tỷ usd quan_hệ hai nhìn_nhận phát_triển tốt_đẹp đại_sứ nguyễn_quốc_cường nghĩa đà phát_triển hơn_nữa lĩnh_vực truyền_thống có_thể sâu_sắc quan_hệ lĩnh_vực hợp_tác chuyển_đổi kinh_tế xanh chống biến_đổi khí_hậu trước_đây chúng_ta chủ_yếu giúp_đỡ nhật tiềm_lực việt_nam có_thể tham_gia chuỗi cung_ứng toàn_cầu nhật_bản đại_sứ nguyễn_quốc_cường đánh_giá khảo_sát jetro tình_hình chính_trị xã_hội ổn_định lợi_thế môi_trường đầu_tư việt_nam đứng singapore asean giai_đoạn quan_trọng hơn_nữa quan_hệ việt nhật tetsuya nagaiwa tổng_giám_đốc muji retail việt_nam trái chào_khách mua_sắm nhân_dịp khai_trương cửa_hàng thành_phố thủ_đức tp hcm ảnh công_ty cung_cấp quan_điểm ổn_định chính_trị tetsuya nagaiwa tổng_giám_đốc muji việt_nam bổ_sung cộng môi_trường đầu_tư việt_nam dân_số đông người_dân cởi_mở sẵn_sàng chấp_nhận tuy_nhiên lưu_ý việt_nam cải_thiện chất_lượng cơ_sở_hạ_tầng logistics yếu_tố giúp doanh_nghiệp có_thể mở_rộng kinh_doanh khắp đồng_thời ceo_nhật sống việt_nam đề_nghị tinh_giảm thủ_tục quy_trình giấy_phép tác_động tâm_lý nhà_đầu_tư hai cải_thiện việt_nam thu_hút nhà_đầu_tư không_chỉ nhật_bản tetsuya nagaiwa']"
      ]
     },
     "execution_count": 163,
     "metadata": {},
     "output_type": "execute_result"
    }
   ],
   "source": [
    "\n",
    "News_11=Text_Preprocessing(News_11)\n",
    "News_12=Text_Preprocessing(News_12)\n",
    "News_21=Text_Preprocessing(News_21)\n",
    "News_22=Text_Preprocessing(News_22)\n",
    "News_31=Text_Preprocessing(News_31)\n",
    "News_32=Text_Preprocessing(News_32)\n",
    "\n",
    "data = [News_11,News_12,News_21,News_22,News_31,News_32]\n",
    "data\n"
   ]
  },
  {
   "cell_type": "code",
   "execution_count": 164,
   "metadata": {},
   "outputs": [
    {
     "data": {
      "text/plain": [
       "(6, 1135)"
      ]
     },
     "execution_count": 164,
     "metadata": {},
     "output_type": "execute_result"
    }
   ],
   "source": [
    "CountVect = CountVectorizer()\n",
    "vector_matrix = CountVect.fit_transform(data)\n",
    "vector_matrix.shape"
   ]
  },
  {
   "cell_type": "code",
   "execution_count": 165,
   "metadata": {},
   "outputs": [
    {
     "data": {
      "text/html": [
       "<div>\n",
       "<style scoped>\n",
       "    .dataframe tbody tr th:only-of-type {\n",
       "        vertical-align: middle;\n",
       "    }\n",
       "\n",
       "    .dataframe tbody tr th {\n",
       "        vertical-align: top;\n",
       "    }\n",
       "\n",
       "    .dataframe thead th {\n",
       "        text-align: right;\n",
       "    }\n",
       "</style>\n",
       "<table border=\"1\" class=\"dataframe\">\n",
       "  <thead>\n",
       "    <tr style=\"text-align: right;\">\n",
       "      <th></th>\n",
       "      <th>News_11</th>\n",
       "      <th>News_12</th>\n",
       "      <th>News_21</th>\n",
       "      <th>News_22</th>\n",
       "      <th>News_31</th>\n",
       "      <th>News_32</th>\n",
       "    </tr>\n",
       "  </thead>\n",
       "  <tbody>\n",
       "    <tr>\n",
       "      <th>doc_4</th>\n",
       "      <td>1.000000</td>\n",
       "      <td>0.043228</td>\n",
       "      <td>0.009278</td>\n",
       "      <td>0.037162</td>\n",
       "      <td>0.023058</td>\n",
       "      <td>0.032508</td>\n",
       "    </tr>\n",
       "    <tr>\n",
       "      <th>doc_5</th>\n",
       "      <td>0.043228</td>\n",
       "      <td>1.000000</td>\n",
       "      <td>0.012149</td>\n",
       "      <td>0.038234</td>\n",
       "      <td>0.010064</td>\n",
       "      <td>0.032704</td>\n",
       "    </tr>\n",
       "    <tr>\n",
       "      <th>doc_6</th>\n",
       "      <td>0.009278</td>\n",
       "      <td>0.012149</td>\n",
       "      <td>1.000000</td>\n",
       "      <td>0.051155</td>\n",
       "      <td>0.060482</td>\n",
       "      <td>0.028650</td>\n",
       "    </tr>\n",
       "    <tr>\n",
       "      <th>doc_7</th>\n",
       "      <td>0.037162</td>\n",
       "      <td>0.038234</td>\n",
       "      <td>0.051155</td>\n",
       "      <td>1.000000</td>\n",
       "      <td>0.014420</td>\n",
       "      <td>0.053808</td>\n",
       "    </tr>\n",
       "    <tr>\n",
       "      <th>doc_8</th>\n",
       "      <td>0.023058</td>\n",
       "      <td>0.010064</td>\n",
       "      <td>0.060482</td>\n",
       "      <td>0.014420</td>\n",
       "      <td>1.000000</td>\n",
       "      <td>0.033966</td>\n",
       "    </tr>\n",
       "    <tr>\n",
       "      <th>doc_9</th>\n",
       "      <td>0.032508</td>\n",
       "      <td>0.032704</td>\n",
       "      <td>0.028650</td>\n",
       "      <td>0.053808</td>\n",
       "      <td>0.033966</td>\n",
       "      <td>1.000000</td>\n",
       "    </tr>\n",
       "  </tbody>\n",
       "</table>\n",
       "</div>"
      ],
      "text/plain": [
       "        News_11   News_12   News_21   News_22   News_31   News_32\n",
       "doc_4  1.000000  0.043228  0.009278  0.037162  0.023058  0.032508\n",
       "doc_5  0.043228  1.000000  0.012149  0.038234  0.010064  0.032704\n",
       "doc_6  0.009278  0.012149  1.000000  0.051155  0.060482  0.028650\n",
       "doc_7  0.037162  0.038234  0.051155  1.000000  0.014420  0.053808\n",
       "doc_8  0.023058  0.010064  0.060482  0.014420  1.000000  0.033966\n",
       "doc_9  0.032508  0.032704  0.028650  0.053808  0.033966  1.000000"
      ]
     },
     "execution_count": 165,
     "metadata": {},
     "output_type": "execute_result"
    }
   ],
   "source": [
    "tokens = CountVect. get_feature_names_out()\n",
    "create_dataframe(vector_matrix.toarray(),tokens)\n",
    "\n",
    "# Tính toán độ tương đồng\n",
    "cosine_similarity_matrix = cosine_similarity(vector_matrix)\n",
    "Similarity=create_dataframe(cosine_similarity_matrix,['News_11','News_12','News_21','News_22','News_31','News_32'])\n",
    "\n",
    "Similarity"
   ]
  }
 ],
 "metadata": {
  "kernelspec": {
   "display_name": "Python 3",
   "language": "python",
   "name": "python3"
  },
  "language_info": {
   "codemirror_mode": {
    "name": "ipython",
    "version": 3
   },
   "file_extension": ".py",
   "mimetype": "text/x-python",
   "name": "python",
   "nbconvert_exporter": "python",
   "pygments_lexer": "ipython3",
   "version": "3.11.5"
  }
 },
 "nbformat": 4,
 "nbformat_minor": 2
}
