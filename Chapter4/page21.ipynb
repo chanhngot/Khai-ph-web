{
 "cells": [
  {
   "cell_type": "code",
   "execution_count": 1,
   "metadata": {},
   "outputs": [
    {
     "name": "stdout",
     "output_type": "stream",
     "text": [
      "[[1 1 1 1 1 0 1 1 0 0 1 1 1 1 0 0 1 1 1 1 0 2 1 1]\n",
      " [0 0 0 1 0 1 0 0 1 1 0 0 1 1 1 1 1 1 0 0 1 1 1 0]]\n"
     ]
    }
   ],
   "source": [
    "from sklearn.feature_extraction.text import CountVectorizer\n",
    "# Khởi tạo đối tượng CountVectorizer\n",
    "# Tham số ngram_range=(1,2) cho biết chúng ta muốn sử dụng N-grams từ 1 đến 2.\n",
    "vectorizer = CountVectorizer(ngram_range=(1,2))\n",
    "# Tạo ra một list chứa các câu cần biểu diễn\n",
    "Data = [\"The quick brown fox jumps over the lazy dog and\",\n",
    "\"Never jump over the lazy dog quickly\"]\n",
    "# Biểu diễn vector đặc trưng cho các câu\n",
    "features = vectorizer.fit_transform(Data)\n",
    "# In ra các feature vector tương ứng với các câu\n",
    "print(features.toarray())"
   ]
  }
 ],
 "metadata": {
  "kernelspec": {
   "display_name": "Python 3",
   "language": "python",
   "name": "python3"
  },
  "language_info": {
   "codemirror_mode": {
    "name": "ipython",
    "version": 3
   },
   "file_extension": ".py",
   "mimetype": "text/x-python",
   "name": "python",
   "nbconvert_exporter": "python",
   "pygments_lexer": "ipython3",
   "version": "3.11.5"
  }
 },
 "nbformat": 4,
 "nbformat_minor": 2
}
